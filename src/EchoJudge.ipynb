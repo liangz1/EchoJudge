{
 "cells": [
  {
   "cell_type": "code",
   "execution_count": 3,
   "id": "f109a2eb-272a-46c0-8a46-5a76c7bb4187",
   "metadata": {},
   "outputs": [],
   "source": [
    "from yaml import safe_load\n",
    "from pydantic import BaseModel, Field, validator\n",
    "from typing import List\n",
    "import ast\n",
    "import importlib\n",
    "import pandas as pd\n",
    "import trace_utils\n",
    "import yaml\n",
    "\n",
    "csv_path = \"../Bricky/gold_docs_qna_conversation_turns_2023_11_13.csv\""
   ]
  },
  {
   "cell_type": "code",
   "execution_count": 14,
   "id": "fc9e2b36-fdc9-4e14-9b41-5d939d1e6eb1",
   "metadata": {},
   "outputs": [],
   "source": [
    "importlib.reload(trace_utils)\n",
    "from trace_utils import Trace, BrickyEvaluationDataset"
   ]
  },
  {
   "cell_type": "code",
   "execution_count": 7,
   "id": "75248a06-bc4c-4edc-ab75-275932d8321c",
   "metadata": {},
   "outputs": [],
   "source": [
    "dataset = BrickyEvaluationDataset()\n",
    "dataset.add_traces_from_usage_log_csv(csv_path)\n",
    "dataset.write_to_yaml_file()"
   ]
  },
  {
   "cell_type": "code",
   "execution_count": 15,
   "id": "a6d29302-cbb1-431f-addd-180bcdf6b620",
   "metadata": {},
   "outputs": [],
   "source": [
    "loaded_dataset = BrickyEvaluationDataset.load_from_yaml_file()"
   ]
  },
  {
   "cell_type": "code",
   "execution_count": 16,
   "id": "70df314b-2a24-486f-9a05-2e345e70c0c6",
   "metadata": {},
   "outputs": [
    {
     "data": {
      "text/plain": [
       "22"
      ]
     },
     "execution_count": 16,
     "metadata": {},
     "output_type": "execute_result"
    }
   ],
   "source": [
    "len(loaded_dataset.traces)"
   ]
  },
  {
   "cell_type": "code",
   "execution_count": null,
   "id": "5e095a70-1335-49a9-a5a6-b288d4332a49",
   "metadata": {},
   "outputs": [],
   "source": []
  }
 ],
 "metadata": {
  "kernelspec": {
   "display_name": "Python 3 (ipykernel)",
   "language": "python",
   "name": "python3"
  },
  "language_info": {
   "codemirror_mode": {
    "name": "ipython",
    "version": 3
   },
   "file_extension": ".py",
   "mimetype": "text/x-python",
   "name": "python",
   "nbconvert_exporter": "python",
   "pygments_lexer": "ipython3",
   "version": "3.8.17"
  }
 },
 "nbformat": 4,
 "nbformat_minor": 5
}
